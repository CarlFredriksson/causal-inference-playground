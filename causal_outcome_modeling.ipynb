{
 "cells": [
  {
   "cell_type": "code",
   "execution_count": 1,
   "metadata": {},
   "outputs": [],
   "source": [
    "import numpy as np\n",
    "from sklearn.linear_model import LinearRegression\n",
    "NUM_DATA_POINTS = 100000"
   ]
  },
  {
   "cell_type": "markdown",
   "metadata": {},
   "source": [
    "# Introduction\n",
    "\n",
    "![figures/identification_estimation_flowchart.png](figures/identification_estimation_flowchart.png)\n",
    "\n",
    "Causal estimand: Average treatment effect (ATE): E[Y(1) - Y(0)] = E[Y|do(T=1)] - E[Y|do(T=0)]\n",
    "\n",
    "Causal Outcome Modeling (COM) estimation."
   ]
  },
  {
   "cell_type": "markdown",
   "metadata": {},
   "source": [
    "# Causal Model\n",
    "\n",
    "## Graphical Model (DAG)\n",
    "\n",
    "![figures/dag_1.png](figures/dag_1.png)\n",
    "\n",
    "## Structural Causal Model (SCM)\n",
    "\n",
    "## Data generating process"
   ]
  },
  {
   "cell_type": "code",
   "execution_count": 2,
   "metadata": {},
   "outputs": [],
   "source": [
    "def f_x():\n",
    "    u_x = np.random.choice([0, 1])\n",
    "    return u_x\n",
    "\n",
    "def f_t(x):\n",
    "    u_t = np.random.normal()\n",
    "    intermediate = 0.5 * x + u_t\n",
    "    return 1 if intermediate > 0 else 0\n",
    "\n",
    "def f_y(x, t):\n",
    "    u_y = np.random.normal()\n",
    "    return 0.8 * x + 1.2 * t + u_y\n",
    "\n",
    "X = np.array([f_x() for _ in range(NUM_DATA_POINTS)])\n",
    "T = np.array([f_t(x) for x in X])\n",
    "Y = np.array([f_y(x, t) for x, t in zip(X, T)])"
   ]
  },
  {
   "cell_type": "markdown",
   "metadata": {},
   "source": [
    "# Identification\n",
    "\n",
    "Backdoor criterion\n",
    "\n",
    "Backdoor adjustment"
   ]
  },
  {
   "cell_type": "markdown",
   "metadata": {},
   "source": [
    "# Estimation\n",
    "\n",
    "Linear model"
   ]
  },
  {
   "cell_type": "code",
   "execution_count": 3,
   "metadata": {},
   "outputs": [
    {
     "name": "stdout",
     "output_type": "stream",
     "text": [
      "ATE estimate: 1.1954780391658062\n"
     ]
    }
   ],
   "source": [
    "XT = np.array([X, T]).T\n",
    "XT_1 = np.array([X, np.ones(len(X))]).T\n",
    "XT_0 = np.array([X, np.zeros(len(X))]).T\n",
    "model = LinearRegression()\n",
    "model.fit(XT, Y)\n",
    "ate_estimate = np.mean(model.predict(XT_1) - model.predict(XT_0))\n",
    "print(\"ATE estimate:\", ate_estimate)"
   ]
  },
  {
   "cell_type": "code",
   "execution_count": 4,
   "metadata": {},
   "outputs": [
    {
     "name": "stdout",
     "output_type": "stream",
     "text": [
      "ATE estimate: 1.195478039165806\n"
     ]
    }
   ],
   "source": [
    "print(\"ATE estimate:\", model.coef_[1])"
   ]
  },
  {
   "cell_type": "markdown",
   "metadata": {},
   "source": [
    "# Colliders\n",
    "\n",
    "![figures/dag_2.png](figures/dag_2.png)"
   ]
  },
  {
   "cell_type": "code",
   "execution_count": 5,
   "metadata": {},
   "outputs": [],
   "source": [
    "def f_x():\n",
    "    u_x = np.random.choice([0, 1])\n",
    "    return u_x\n",
    "\n",
    "def f_t(x):\n",
    "    u_t = np.random.normal()\n",
    "    intermediate = 0.5 * x + u_t\n",
    "    return 1 if intermediate > 0 else 0\n",
    "\n",
    "def f_y(x, t):\n",
    "    u_y = np.random.normal()\n",
    "    return 0.8 * x + 1.2 * t + u_y\n",
    "\n",
    "def f_z(t, y):\n",
    "    u_z = np.random.normal()\n",
    "    intermediate = 1.5 * t + y - 2 + u_z\n",
    "    return 1 if intermediate > 0 else 0\n",
    "\n",
    "X = np.array([f_x() for _ in range(NUM_DATA_POINTS)])\n",
    "T = np.array([f_t(x) for x in X])\n",
    "Y = np.array([f_y(x, t) for x, t in zip(X, T)])\n",
    "Z = np.array([f_z(t, y) for t, y in zip(T, Y)])"
   ]
  },
  {
   "cell_type": "code",
   "execution_count": 6,
   "metadata": {},
   "outputs": [
    {
     "name": "stdout",
     "output_type": "stream",
     "text": [
      "ATE estimate: 0.4157800161715359\n"
     ]
    }
   ],
   "source": [
    "XZT = np.array([X, Z, T]).T\n",
    "XZT_1 = np.array([X, Z, np.ones(len(X))]).T\n",
    "XZT_0 = np.array([X, Z, np.zeros(len(X))]).T\n",
    "model = LinearRegression()\n",
    "model.fit(XZT, Y)\n",
    "ate_estimate = np.mean(model.predict(XZT_1) - model.predict(XZT_0))\n",
    "print(\"ATE estimate:\", ate_estimate)"
   ]
  },
  {
   "cell_type": "code",
   "execution_count": 7,
   "metadata": {},
   "outputs": [
    {
     "name": "stdout",
     "output_type": "stream",
     "text": [
      "ATE estimate: 1.1995390694286208\n"
     ]
    }
   ],
   "source": [
    "XT = np.array([X, T]).T\n",
    "XT_1 = np.array([X, np.ones(len(X))]).T\n",
    "XT_0 = np.array([X, np.zeros(len(X))]).T\n",
    "model = LinearRegression()\n",
    "model.fit(XT, Y)\n",
    "ate_estimate = np.mean(model.predict(XT_1) - model.predict(XT_0))\n",
    "print(\"ATE estimate:\", ate_estimate)"
   ]
  },
  {
   "cell_type": "markdown",
   "metadata": {},
   "source": [
    "# Unobserved confounding\n",
    "\n",
    "![figures/dag_3.png](figures/dag_3.png)"
   ]
  },
  {
   "cell_type": "code",
   "execution_count": 8,
   "metadata": {},
   "outputs": [],
   "source": [
    "def f_x():\n",
    "    u_x = np.random.choice([0, 1])\n",
    "    return u_x\n",
    "\n",
    "def f_u():\n",
    "    u_u = np.random.normal()\n",
    "    return u_u\n",
    "\n",
    "def f_t(x, u):\n",
    "    u_t = np.random.normal()\n",
    "    intermediate = 0.5 * x + 0.8 * u + u_t\n",
    "    return 1 if intermediate > 0 else 0\n",
    "\n",
    "def f_y(x, u, t):\n",
    "    u_y = np.random.normal()\n",
    "    return 0.8 * x - 2 * u + 1.2 * t + u_y\n",
    "\n",
    "X = np.array([f_x() for _ in range(NUM_DATA_POINTS)])\n",
    "U = np.array([f_u() for _ in range(NUM_DATA_POINTS)])\n",
    "T = np.array([f_t(x, u) for x, u in zip(X, U)])\n",
    "Y = np.array([f_y(x, u, t) for x, u, t in zip(X, U, T)])"
   ]
  },
  {
   "cell_type": "code",
   "execution_count": 9,
   "metadata": {},
   "outputs": [
    {
     "name": "stdout",
     "output_type": "stream",
     "text": [
      "ATE estimate: -0.793921635724498\n"
     ]
    }
   ],
   "source": [
    "XT = np.array([X, T]).T\n",
    "XT_1 = np.array([X, np.ones(len(X))]).T\n",
    "XT_0 = np.array([X, np.zeros(len(X))]).T\n",
    "model = LinearRegression()\n",
    "model.fit(XT, Y)\n",
    "ate_estimate = np.mean(model.predict(XT_1) - model.predict(XT_0))\n",
    "print(\"ATE estimate:\", ate_estimate)"
   ]
  },
  {
   "cell_type": "markdown",
   "metadata": {},
   "source": [
    "## Sensitivity analysis"
   ]
  },
  {
   "cell_type": "markdown",
   "metadata": {},
   "source": [
    "# Conclusion\n",
    "\n",
    "TODO\n",
    "\n",
    "Just a small part of causal inference"
   ]
  }
 ],
 "metadata": {
  "kernelspec": {
   "display_name": "causal-inference-playground-env",
   "language": "python",
   "name": "python3"
  },
  "language_info": {
   "codemirror_mode": {
    "name": "ipython",
    "version": 3
   },
   "file_extension": ".py",
   "mimetype": "text/x-python",
   "name": "python",
   "nbconvert_exporter": "python",
   "pygments_lexer": "ipython3",
   "version": "3.12.1"
  }
 },
 "nbformat": 4,
 "nbformat_minor": 2
}
