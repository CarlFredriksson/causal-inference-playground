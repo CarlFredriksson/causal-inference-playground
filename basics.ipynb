{
 "cells": [
  {
   "cell_type": "code",
   "execution_count": 1,
   "metadata": {},
   "outputs": [],
   "source": [
    "import numpy as np\n",
    "from sklearn.linear_model import LinearRegression\n",
    "NUM_DATA_POINTS = 100000"
   ]
  },
  {
   "cell_type": "markdown",
   "metadata": {},
   "source": [
    "# Introduction\n",
    "\n",
    "TODO"
   ]
  },
  {
   "cell_type": "markdown",
   "metadata": {},
   "source": [
    "# Causal Model\n",
    "\n",
    "## Graphical Model (DAG)\n",
    "\n",
    "![dags/dag_1.png](dags/dag_1.png)\n",
    "\n",
    "## Structural Causal Model (SCM)\n",
    "\n",
    "## Data generating process"
   ]
  },
  {
   "cell_type": "code",
   "execution_count": 2,
   "metadata": {},
   "outputs": [],
   "source": [
    "def f_x():\n",
    "    u_x = np.random.choice([0, 1])\n",
    "    return u_x\n",
    "\n",
    "def f_t(x):\n",
    "    u_t = np.random.normal()\n",
    "    intermediate = 0.5 * x + u_t\n",
    "    return 1 if intermediate > 0 else 0\n",
    "\n",
    "def f_y(x, t):\n",
    "    u_y = np.random.normal()\n",
    "    return 0.3 * x + 1.2 * t + u_y"
   ]
  },
  {
   "cell_type": "code",
   "execution_count": 3,
   "metadata": {},
   "outputs": [],
   "source": [
    "X = np.array([f_x() for _ in range(NUM_DATA_POINTS)])\n",
    "T = np.array([f_t(x) for x in X])\n",
    "Y = np.array([f_y(x, t) for x, t in zip(X, T)])"
   ]
  },
  {
   "cell_type": "code",
   "execution_count": 7,
   "metadata": {},
   "outputs": [
    {
     "name": "stdout",
     "output_type": "stream",
     "text": [
      "ATE estimate: 1.1945075058582117\n"
     ]
    }
   ],
   "source": [
    "Xt = np.array([X, T]).T\n",
    "model = LinearRegression()\n",
    "model.fit(Xt , Y)\n",
    "Xt_1 = np.array([X, np.ones(len(X))]).T\n",
    "Xt_0 = np.array([X, np.zeros(len(X))]).T\n",
    "ate_estimate = np.mean(model.predict(Xt_1) - model.predict(Xt_0))\n",
    "print(\"ATE estimate:\", ate_estimate)"
   ]
  },
  {
   "cell_type": "code",
   "execution_count": 10,
   "metadata": {},
   "outputs": [
    {
     "name": "stdout",
     "output_type": "stream",
     "text": [
      "ATE estimate: 1.1945075058582115\n"
     ]
    }
   ],
   "source": [
    "Xt = np.array([X, T]).T\n",
    "model = LinearRegression()\n",
    "model.fit(Xt , Y)\n",
    "ate_estimate = model.coef_[1]\n",
    "print(\"ATE estimate:\", ate_estimate)"
   ]
  },
  {
   "cell_type": "markdown",
   "metadata": {},
   "source": [
    "# Identification\n",
    "\n",
    "Backdoor criterion\n",
    "\n",
    "Backdoor adjustment"
   ]
  },
  {
   "cell_type": "markdown",
   "metadata": {},
   "source": [
    "# Estimation\n",
    "\n",
    "Linear model\n",
    "\n",
    "Change data generating process to be non-linear and do both linear and then non-linear model\n",
    "\n",
    "Propensity score\n",
    "\n",
    "Matching?"
   ]
  },
  {
   "cell_type": "markdown",
   "metadata": {},
   "source": [
    "# Colliders?"
   ]
  },
  {
   "cell_type": "markdown",
   "metadata": {},
   "source": [
    "# Unobserved confounding\n",
    "\n",
    "![dags/dag_2.png](dags/dag_2.png)\n",
    "\n",
    "## Estimation\n",
    "\n",
    "## Sensitivity analysis"
   ]
  },
  {
   "cell_type": "markdown",
   "metadata": {},
   "source": [
    "# Conclusion\n",
    "\n",
    "TODO\n",
    "\n",
    "Just a small part of causal inference"
   ]
  }
 ],
 "metadata": {
  "kernelspec": {
   "display_name": "causal-inference-playground-env",
   "language": "python",
   "name": "python3"
  },
  "language_info": {
   "codemirror_mode": {
    "name": "ipython",
    "version": 3
   },
   "file_extension": ".py",
   "mimetype": "text/x-python",
   "name": "python",
   "nbconvert_exporter": "python",
   "pygments_lexer": "ipython3",
   "version": "3.12.1"
  }
 },
 "nbformat": 4,
 "nbformat_minor": 2
}
