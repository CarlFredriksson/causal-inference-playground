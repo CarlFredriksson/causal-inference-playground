{
 "cells": [
  {
   "cell_type": "code",
   "execution_count": 1,
   "metadata": {},
   "outputs": [],
   "source": [
    "import numpy as np"
   ]
  },
  {
   "cell_type": "markdown",
   "metadata": {},
   "source": [
    "# Introduction\n",
    "\n",
    "TODO"
   ]
  },
  {
   "cell_type": "markdown",
   "metadata": {},
   "source": [
    "# Causal Model\n",
    "\n",
    "## Graphical Model (DAG)\n",
    "\n",
    "![dags/dag_1.png](dags/dag_1.png)\n",
    "\n",
    "## Structural Causal Model (SCM)\n",
    "\n",
    "## Data generating process"
   ]
  },
  {
   "cell_type": "markdown",
   "metadata": {},
   "source": [
    "# Identification\n",
    "\n",
    "Backdoor criterion\n",
    "\n",
    "Backdoor adjustment"
   ]
  },
  {
   "cell_type": "markdown",
   "metadata": {},
   "source": [
    "# Estimation\n",
    "\n",
    "Linear model\n",
    "\n",
    "Change data generating process to be non-linear and do both linear and then non-linear model\n",
    "\n",
    "Propensity score\n",
    "\n",
    "Matching?"
   ]
  },
  {
   "cell_type": "markdown",
   "metadata": {},
   "source": [
    "# Unobserved confounding\n",
    "\n",
    "## Estimation\n",
    "\n",
    "## Sensitivity analysis"
   ]
  },
  {
   "cell_type": "markdown",
   "metadata": {},
   "source": [
    "# Conclusion\n",
    "\n",
    "TODO\n",
    "\n",
    "Just a small part of causal inference"
   ]
  }
 ],
 "metadata": {
  "kernelspec": {
   "display_name": "causal-inference-playground-env",
   "language": "python",
   "name": "python3"
  },
  "language_info": {
   "codemirror_mode": {
    "name": "ipython",
    "version": 3
   },
   "file_extension": ".py",
   "mimetype": "text/x-python",
   "name": "python",
   "nbconvert_exporter": "python",
   "pygments_lexer": "ipython3",
   "version": "3.12.1"
  }
 },
 "nbformat": 4,
 "nbformat_minor": 2
}
